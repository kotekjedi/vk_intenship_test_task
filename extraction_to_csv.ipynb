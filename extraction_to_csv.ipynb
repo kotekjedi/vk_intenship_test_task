{
 "cells": [
  {
   "cell_type": "code",
   "execution_count": 1,
   "metadata": {},
   "outputs": [],
   "source": [
    "import json\n",
    "import pandas as pd\n",
    "import numpy as np\n",
    "import ast\n",
    "import matplotlib.pyplot as plt"
   ]
  },
  {
   "cell_type": "code",
   "execution_count": 4,
   "metadata": {},
   "outputs": [],
   "source": [
    "# в словаре есть пропущенные значения age:,\n",
    "def split_dict(dict_string):\n",
    "    dict_string = dict_string[1:-1].split(',')\n",
    "    f = lambda token: np.nan if len(token) < 2 or token[1] in ['','\"\"'] else token[1]   \n",
    "    return [f(i.split(':')) for i in dict_string]\n",
    "\n",
    "\n",
    "def new_columns(df, columns):\n",
    "    for col in columns:\n",
    "        df[col] = 0"
   ]
  },
  {
   "cell_type": "markdown",
   "metadata": {},
   "source": [
    "#### GETTING USERS"
   ]
  },
  {
   "cell_type": "code",
   "execution_count": 57,
   "metadata": {},
   "outputs": [],
   "source": [
    "users = pd.read_csv('ThirtyMusic/entities/users.idomaar', sep='\t', header=None)[[2,3]]"
   ]
  },
  {
   "cell_type": "code",
   "execution_count": 58,
   "metadata": {},
   "outputs": [
    {
     "data": {
      "text/plain": [
       "['lastfm_username',\n",
       " 'gender',\n",
       " 'age',\n",
       " 'country',\n",
       " 'playcount',\n",
       " 'playlists',\n",
       " 'subscribertype']"
      ]
     },
     "execution_count": 58,
     "metadata": {},
     "output_type": "execute_result"
    }
   ],
   "source": [
    "user_columns = list(ast.literal_eval(users.values[0][1]).keys())\n",
    "user_columns"
   ]
  },
  {
   "cell_type": "code",
   "execution_count": 59,
   "metadata": {},
   "outputs": [],
   "source": [
    "new_columns(users, user_columns)\n",
    "users[user_columns] = np.array(users.apply(lambda x: split_dict(x[3]), axis=1).values.tolist())\n",
    "users['ID'] = users[2]\n",
    "users.drop([2,3], axis=1, inplace = True)"
   ]
  },
  {
   "cell_type": "code",
   "execution_count": 60,
   "metadata": {},
   "outputs": [
    {
     "data": {
      "text/html": [
       "<div>\n",
       "<style scoped>\n",
       "    .dataframe tbody tr th:only-of-type {\n",
       "        vertical-align: middle;\n",
       "    }\n",
       "\n",
       "    .dataframe tbody tr th {\n",
       "        vertical-align: top;\n",
       "    }\n",
       "\n",
       "    .dataframe thead th {\n",
       "        text-align: right;\n",
       "    }\n",
       "</style>\n",
       "<table border=\"1\" class=\"dataframe\">\n",
       "  <thead>\n",
       "    <tr style=\"text-align: right;\">\n",
       "      <th></th>\n",
       "      <th>lastfm_username</th>\n",
       "      <th>gender</th>\n",
       "      <th>age</th>\n",
       "      <th>country</th>\n",
       "      <th>playcount</th>\n",
       "      <th>playlists</th>\n",
       "      <th>subscribertype</th>\n",
       "      <th>ID</th>\n",
       "    </tr>\n",
       "  </thead>\n",
       "  <tbody>\n",
       "    <tr>\n",
       "      <th>0</th>\n",
       "      <td>\"000123\"</td>\n",
       "      <td>\"f\"</td>\n",
       "      <td>24</td>\n",
       "      <td>\"US\"</td>\n",
       "      <td>221012</td>\n",
       "      <td>2</td>\n",
       "      <td>\"base\"</td>\n",
       "      <td>1116715959</td>\n",
       "    </tr>\n",
       "    <tr>\n",
       "      <th>1</th>\n",
       "      <td>\"000333\"</td>\n",
       "      <td>\"m\"</td>\n",
       "      <td>39</td>\n",
       "      <td>\"CZ\"</td>\n",
       "      <td>217535</td>\n",
       "      <td>9</td>\n",
       "      <td>\"base\"</td>\n",
       "      <td>1163123792</td>\n",
       "    </tr>\n",
       "    <tr>\n",
       "      <th>2</th>\n",
       "      <td>\"00elen\"</td>\n",
       "      <td>\"f\"</td>\n",
       "      <td>nan</td>\n",
       "      <td>nan</td>\n",
       "      <td>49733</td>\n",
       "      <td>2</td>\n",
       "      <td>\"base\"</td>\n",
       "      <td>1184426573</td>\n",
       "    </tr>\n",
       "    <tr>\n",
       "      <th>3</th>\n",
       "      <td>\"00Eraser00\"</td>\n",
       "      <td>\"m\"</td>\n",
       "      <td>32</td>\n",
       "      <td>\"DE\"</td>\n",
       "      <td>168054</td>\n",
       "      <td>2</td>\n",
       "      <td>\"base\"</td>\n",
       "      <td>1123157597</td>\n",
       "    </tr>\n",
       "    <tr>\n",
       "      <th>4</th>\n",
       "      <td>\"00fieldsy\"</td>\n",
       "      <td>\"m\"</td>\n",
       "      <td>23</td>\n",
       "      <td>\"UK\"</td>\n",
       "      <td>45700</td>\n",
       "      <td>2</td>\n",
       "      <td>\"base\"</td>\n",
       "      <td>1171302116</td>\n",
       "    </tr>\n",
       "    <tr>\n",
       "      <th>...</th>\n",
       "      <td>...</td>\n",
       "      <td>...</td>\n",
       "      <td>...</td>\n",
       "      <td>...</td>\n",
       "      <td>...</td>\n",
       "      <td>...</td>\n",
       "      <td>...</td>\n",
       "      <td>...</td>\n",
       "    </tr>\n",
       "    <tr>\n",
       "      <th>45162</th>\n",
       "      <td>\"f1yb0y\"</td>\n",
       "      <td>\"m\"</td>\n",
       "      <td>38</td>\n",
       "      <td>\"UK\"</td>\n",
       "      <td>43728</td>\n",
       "      <td>3</td>\n",
       "      <td>\"base\"</td>\n",
       "      <td>1126004101</td>\n",
       "    </tr>\n",
       "    <tr>\n",
       "      <th>45163</th>\n",
       "      <td>\"Cloud_Dog\"</td>\n",
       "      <td>\"m\"</td>\n",
       "      <td>30</td>\n",
       "      <td>\"DE\"</td>\n",
       "      <td>79743</td>\n",
       "      <td>2</td>\n",
       "      <td>\"base\"</td>\n",
       "      <td>1169128340</td>\n",
       "    </tr>\n",
       "    <tr>\n",
       "      <th>45164</th>\n",
       "      <td>\"diesel64\"</td>\n",
       "      <td>\"m\"</td>\n",
       "      <td>28</td>\n",
       "      <td>\"BE\"</td>\n",
       "      <td>18130</td>\n",
       "      <td>2</td>\n",
       "      <td>\"base\"</td>\n",
       "      <td>1136564558</td>\n",
       "    </tr>\n",
       "    <tr>\n",
       "      <th>45165</th>\n",
       "      <td>\"sjarel8\"</td>\n",
       "      <td>\"n\"</td>\n",
       "      <td>nan</td>\n",
       "      <td>nan</td>\n",
       "      <td>34582</td>\n",
       "      <td>2</td>\n",
       "      <td>\"base\"</td>\n",
       "      <td>1172631407</td>\n",
       "    </tr>\n",
       "    <tr>\n",
       "      <th>45166</th>\n",
       "      <td>\"tataroglu85\"</td>\n",
       "      <td>\"m\"</td>\n",
       "      <td>28</td>\n",
       "      <td>\"TR\"</td>\n",
       "      <td>14617</td>\n",
       "      <td>3</td>\n",
       "      <td>\"base\"</td>\n",
       "      <td>1138216337</td>\n",
       "    </tr>\n",
       "  </tbody>\n",
       "</table>\n",
       "<p>45167 rows × 8 columns</p>\n",
       "</div>"
      ],
      "text/plain": [
       "      lastfm_username gender  age country playcount playlists subscribertype  \\\n",
       "0            \"000123\"    \"f\"   24    \"US\"    221012         2         \"base\"   \n",
       "1            \"000333\"    \"m\"   39    \"CZ\"    217535         9         \"base\"   \n",
       "2            \"00elen\"    \"f\"  nan     nan     49733         2         \"base\"   \n",
       "3        \"00Eraser00\"    \"m\"   32    \"DE\"    168054         2         \"base\"   \n",
       "4         \"00fieldsy\"    \"m\"   23    \"UK\"     45700         2         \"base\"   \n",
       "...               ...    ...  ...     ...       ...       ...            ...   \n",
       "45162        \"f1yb0y\"    \"m\"   38    \"UK\"     43728         3         \"base\"   \n",
       "45163     \"Cloud_Dog\"    \"m\"   30    \"DE\"     79743         2         \"base\"   \n",
       "45164      \"diesel64\"    \"m\"   28    \"BE\"     18130         2         \"base\"   \n",
       "45165       \"sjarel8\"    \"n\"  nan     nan     34582         2         \"base\"   \n",
       "45166   \"tataroglu85\"    \"m\"   28    \"TR\"     14617         3         \"base\"   \n",
       "\n",
       "               ID  \n",
       "0      1116715959  \n",
       "1      1163123792  \n",
       "2      1184426573  \n",
       "3      1123157597  \n",
       "4      1171302116  \n",
       "...           ...  \n",
       "45162  1126004101  \n",
       "45163  1169128340  \n",
       "45164  1136564558  \n",
       "45165  1172631407  \n",
       "45166  1138216337  \n",
       "\n",
       "[45167 rows x 8 columns]"
      ]
     },
     "execution_count": 60,
     "metadata": {},
     "output_type": "execute_result"
    }
   ],
   "source": [
    "users.head()"
   ]
  },
  {
   "cell_type": "code",
   "execution_count": 187,
   "metadata": {},
   "outputs": [],
   "source": [
    "users.to_csv('users.csv', index=False)"
   ]
  },
  {
   "cell_type": "markdown",
   "metadata": {},
   "source": [
    "#### GETTING ARTISTS"
   ]
  },
  {
   "cell_type": "code",
   "execution_count": 176,
   "metadata": {},
   "outputs": [],
   "source": [
    "persons = pd.read_csv('ThirtyMusic/entities/persons.idomaar', sep='\t', header=None)[[1, 3]]"
   ]
  },
  {
   "cell_type": "code",
   "execution_count": 179,
   "metadata": {},
   "outputs": [],
   "source": [
    "persons['name'] = persons.apply(lambda x: x[3].split('\"name\":')[1][:-1], axis=1)"
   ]
  },
  {
   "cell_type": "code",
   "execution_count": 182,
   "metadata": {},
   "outputs": [],
   "source": [
    "persons['ID'] = persons[1]\n",
    "persons = persons[['ID', 'name']]"
   ]
  },
  {
   "cell_type": "code",
   "execution_count": 183,
   "metadata": {},
   "outputs": [
    {
     "data": {
      "text/html": [
       "<div>\n",
       "<style scoped>\n",
       "    .dataframe tbody tr th:only-of-type {\n",
       "        vertical-align: middle;\n",
       "    }\n",
       "\n",
       "    .dataframe tbody tr th {\n",
       "        vertical-align: top;\n",
       "    }\n",
       "\n",
       "    .dataframe thead th {\n",
       "        text-align: right;\n",
       "    }\n",
       "</style>\n",
       "<table border=\"1\" class=\"dataframe\">\n",
       "  <thead>\n",
       "    <tr style=\"text-align: right;\">\n",
       "      <th></th>\n",
       "      <th>ID</th>\n",
       "      <th>name</th>\n",
       "    </tr>\n",
       "  </thead>\n",
       "  <tbody>\n",
       "    <tr>\n",
       "      <th>0</th>\n",
       "      <td>145148</td>\n",
       "      <td>\"Everything+Is+Illuminated\"</td>\n",
       "    </tr>\n",
       "    <tr>\n",
       "      <th>1</th>\n",
       "      <td>297899</td>\n",
       "      <td>\"Robin+O%27Brien\"</td>\n",
       "    </tr>\n",
       "    <tr>\n",
       "      <th>2</th>\n",
       "      <td>250429</td>\n",
       "      <td>\"Nicholas+Gunn++(2012)\"</td>\n",
       "    </tr>\n",
       "    <tr>\n",
       "      <th>3</th>\n",
       "      <td>32765</td>\n",
       "      <td>\"Aspasia+Stratigou\"</td>\n",
       "    </tr>\n",
       "    <tr>\n",
       "      <th>4</th>\n",
       "      <td>18689</td>\n",
       "      <td>\"Allison+Veltz\"</td>\n",
       "    </tr>\n",
       "  </tbody>\n",
       "</table>\n",
       "</div>"
      ],
      "text/plain": [
       "       ID                         name\n",
       "0  145148  \"Everything+Is+Illuminated\"\n",
       "1  297899            \"Robin+O%27Brien\"\n",
       "2  250429      \"Nicholas+Gunn++(2012)\"\n",
       "3   32765          \"Aspasia+Stratigou\"\n",
       "4   18689              \"Allison+Veltz\""
      ]
     },
     "execution_count": 183,
     "metadata": {},
     "output_type": "execute_result"
    }
   ],
   "source": [
    "persons.head()"
   ]
  },
  {
   "cell_type": "code",
   "execution_count": 184,
   "metadata": {},
   "outputs": [],
   "source": [
    "persons.to_csv('artists.csv', index=False)"
   ]
  },
  {
   "cell_type": "markdown",
   "metadata": {},
   "source": [
    "#### GETTING TRACKS"
   ]
  },
  {
   "cell_type": "code",
   "execution_count": 100,
   "metadata": {},
   "outputs": [],
   "source": [
    "track = pd.read_csv('ThirtyMusic/entities/tracks.idomaar', sep='\t', header=None)[[1,3,4]]"
   ]
  },
  {
   "cell_type": "code",
   "execution_count": 164,
   "metadata": {},
   "outputs": [],
   "source": [
    "# названия треков очень мусорные, поэтому, чтобы не грузить машину я не стал их брать\n",
    "track_columns_features = ['duration', 'playcount']\n",
    "new_columns(track, track_columns_features)"
   ]
  },
  {
   "cell_type": "code",
   "execution_count": 130,
   "metadata": {},
   "outputs": [],
   "source": [
    "track['author_id'] = track.apply(lambda x: [person['id'] for person in ast.literal_eval(x[4].split('\"albums\"')[0]+'}')['artists']], axis=1)\n",
    "\n",
    "meta_info = []\n",
    "for x in track[3]:\n",
    "    meta_info.append(split_dict(x)[:2])\n",
    "track[track_columns_features] = meta_info"
   ]
  },
  {
   "cell_type": "code",
   "execution_count": 170,
   "metadata": {},
   "outputs": [],
   "source": [
    "track['ID'] = track[1]\n",
    "track = track[['ID', 'duration', 'author_id']]"
   ]
  },
  {
   "cell_type": "code",
   "execution_count": 186,
   "metadata": {},
   "outputs": [
    {
     "data": {
      "text/html": [
       "<div>\n",
       "<style scoped>\n",
       "    .dataframe tbody tr th:only-of-type {\n",
       "        vertical-align: middle;\n",
       "    }\n",
       "\n",
       "    .dataframe tbody tr th {\n",
       "        vertical-align: top;\n",
       "    }\n",
       "\n",
       "    .dataframe thead th {\n",
       "        text-align: right;\n",
       "    }\n",
       "</style>\n",
       "<table border=\"1\" class=\"dataframe\">\n",
       "  <thead>\n",
       "    <tr style=\"text-align: right;\">\n",
       "      <th></th>\n",
       "      <th>ID</th>\n",
       "      <th>duration</th>\n",
       "      <th>name</th>\n",
       "      <th>author_id</th>\n",
       "    </tr>\n",
       "  </thead>\n",
       "  <tbody>\n",
       "    <tr>\n",
       "      <th>0</th>\n",
       "      <td>0</td>\n",
       "      <td>-1</td>\n",
       "      <td>0</td>\n",
       "      <td>[0]</td>\n",
       "    </tr>\n",
       "    <tr>\n",
       "      <th>1</th>\n",
       "      <td>1</td>\n",
       "      <td>-1</td>\n",
       "      <td>0</td>\n",
       "      <td>[1]</td>\n",
       "    </tr>\n",
       "    <tr>\n",
       "      <th>2</th>\n",
       "      <td>2</td>\n",
       "      <td>-1</td>\n",
       "      <td>0</td>\n",
       "      <td>[2]</td>\n",
       "    </tr>\n",
       "    <tr>\n",
       "      <th>3</th>\n",
       "      <td>3</td>\n",
       "      <td>-1</td>\n",
       "      <td>0</td>\n",
       "      <td>[3]</td>\n",
       "    </tr>\n",
       "    <tr>\n",
       "      <th>4</th>\n",
       "      <td>4</td>\n",
       "      <td>-1</td>\n",
       "      <td>0</td>\n",
       "      <td>[4]</td>\n",
       "    </tr>\n",
       "  </tbody>\n",
       "</table>\n",
       "</div>"
      ],
      "text/plain": [
       "   ID duration  name author_id\n",
       "0   0       -1     0       [0]\n",
       "1   1       -1     0       [1]\n",
       "2   2       -1     0       [2]\n",
       "3   3       -1     0       [3]\n",
       "4   4       -1     0       [4]"
      ]
     },
     "execution_count": 186,
     "metadata": {},
     "output_type": "execute_result"
    }
   ],
   "source": [
    "track.head()"
   ]
  },
  {
   "cell_type": "code",
   "execution_count": 185,
   "metadata": {},
   "outputs": [],
   "source": [
    "track.to_csv('tracks.csv', index=False)"
   ]
  },
  {
   "cell_type": "markdown",
   "metadata": {},
   "source": [
    "#### GETTING PLAYLISTS"
   ]
  },
  {
   "cell_type": "code",
   "execution_count": 7,
   "metadata": {},
   "outputs": [],
   "source": [
    "def extract_tracks(track_dict):\n",
    "    track_dict = ast.literal_eval(track_dict)\n",
    "    user_id = track_dict['subjects'][0]['id']\n",
    "    ids = np.nan\n",
    "    if track_dict['objects'] and track_dict['objects'][0]:\n",
    "        ids = [track['id'] for track in track_dict['objects']]\n",
    "    return user_id, ids"
   ]
  },
  {
   "cell_type": "code",
   "execution_count": 2,
   "metadata": {},
   "outputs": [],
   "source": [
    "playlists = pd.read_csv('ThirtyMusic/entities/playlist.idomaar', sep='\t', header=None)[[2,3,4]]"
   ]
  },
  {
   "cell_type": "code",
   "execution_count": 5,
   "metadata": {},
   "outputs": [],
   "source": [
    "track_info = ['user_id', 'tracks_ids']\n",
    "playlist_info = list(ast.literal_eval(playlists[3][0]).keys())\n",
    "new_columns(playlists, track_info)\n",
    "new_columns(playlists, playlist_info)"
   ]
  },
  {
   "cell_type": "code",
   "execution_count": 8,
   "metadata": {},
   "outputs": [],
   "source": [
    "meta_info_track = []\n",
    "for x in playlists[4]:\n",
    "    meta_info_track.append(extract_tracks(x))\n",
    "meta_info_playlist = []\n",
    "for x in playlists[3]:\n",
    "    current_info = []\n",
    "    x = x.split('\"ID\":')[1].split(',', maxsplit=1)\n",
    "    current_info.append(x[0])\n",
    "    x = x[1].split(':', maxsplit=1)[1].split(',\"numtracks\":')\n",
    "    current_info.append(x[0])\n",
    "    x = x[1].split(',\"duration\":')\n",
    "    current_info.append(x[0])\n",
    "    current_info.append(x[1][:-1])\n",
    "    meta_info_playlist.append(current_info)\n"
   ]
  },
  {
   "cell_type": "code",
   "execution_count": 9,
   "metadata": {},
   "outputs": [],
   "source": [
    "playlists[track_info] = meta_info_track\n",
    "playlists[playlist_info] = meta_info_playlist\n",
    "playlists.dropna(subset=['tracks_ids'], inplace=True)"
   ]
  },
  {
   "cell_type": "code",
   "execution_count": 10,
   "metadata": {},
   "outputs": [],
   "source": [
    "playlists['ID'] = playlists[2]\n",
    "playlists = playlists[sum([track_info,playlist_info],[])]"
   ]
  },
  {
   "cell_type": "code",
   "execution_count": 11,
   "metadata": {},
   "outputs": [],
   "source": [
    "playlists['numtracks'] = playlists['numtracks'].astype(int)"
   ]
  },
  {
   "cell_type": "code",
   "execution_count": 12,
   "metadata": {},
   "outputs": [],
   "source": [
    "# уберем плейлисты в которых меньше трех треков\n",
    "playlists = playlists[playlists.numtracks > 3]"
   ]
  },
  {
   "cell_type": "code",
   "execution_count": 13,
   "metadata": {},
   "outputs": [
    {
     "data": {
      "text/html": [
       "<div>\n",
       "<style scoped>\n",
       "    .dataframe tbody tr th:only-of-type {\n",
       "        vertical-align: middle;\n",
       "    }\n",
       "\n",
       "    .dataframe tbody tr th {\n",
       "        vertical-align: top;\n",
       "    }\n",
       "\n",
       "    .dataframe thead th {\n",
       "        text-align: right;\n",
       "    }\n",
       "</style>\n",
       "<table border=\"1\" class=\"dataframe\">\n",
       "  <thead>\n",
       "    <tr style=\"text-align: right;\">\n",
       "      <th></th>\n",
       "      <th>user_id</th>\n",
       "      <th>tracks_ids</th>\n",
       "      <th>ID</th>\n",
       "      <th>Title</th>\n",
       "      <th>numtracks</th>\n",
       "      <th>duration</th>\n",
       "    </tr>\n",
       "  </thead>\n",
       "  <tbody>\n",
       "    <tr>\n",
       "      <th>0</th>\n",
       "      <td>41504</td>\n",
       "      <td>[3006631, 1885124, 2548942, 1350486, 3734368, ...</td>\n",
       "      <td>1216545588</td>\n",
       "      <td>\"my_favorites\"</td>\n",
       "      <td>27</td>\n",
       "      <td>6522</td>\n",
       "    </tr>\n",
       "    <tr>\n",
       "      <th>1</th>\n",
       "      <td>41504</td>\n",
       "      <td>[2807573, 2807606, 1119655, 1378148, 805788, 2...</td>\n",
       "      <td>1249326867</td>\n",
       "      <td>\"\"</td>\n",
       "      <td>9</td>\n",
       "      <td>2650</td>\n",
       "    </tr>\n",
       "    <tr>\n",
       "      <th>2</th>\n",
       "      <td>44542</td>\n",
       "      <td>[2236990, 3005440, 2941671, 3004987, 2834239, ...</td>\n",
       "      <td>1257766688</td>\n",
       "      <td>\"1989\"</td>\n",
       "      <td>16</td>\n",
       "      <td>3645</td>\n",
       "    </tr>\n",
       "    <tr>\n",
       "      <th>3</th>\n",
       "      <td>44542</td>\n",
       "      <td>[2338780, 1813232, 199079, 3295925, 1175085, 3...</td>\n",
       "      <td>1248079275</td>\n",
       "      <td>\"Fly me to the moon...\"</td>\n",
       "      <td>15</td>\n",
       "      <td>4151</td>\n",
       "    </tr>\n",
       "    <tr>\n",
       "      <th>4</th>\n",
       "      <td>44542</td>\n",
       "      <td>[1632714, 2933827, 1632721, 2533642, 2652489, ...</td>\n",
       "      <td>1175201268</td>\n",
       "      <td>\"The playlist who must not be named\"</td>\n",
       "      <td>84</td>\n",
       "      <td>18414</td>\n",
       "    </tr>\n",
       "  </tbody>\n",
       "</table>\n",
       "</div>"
      ],
      "text/plain": [
       "   user_id                                         tracks_ids          ID  \\\n",
       "0    41504  [3006631, 1885124, 2548942, 1350486, 3734368, ...  1216545588   \n",
       "1    41504  [2807573, 2807606, 1119655, 1378148, 805788, 2...  1249326867   \n",
       "2    44542  [2236990, 3005440, 2941671, 3004987, 2834239, ...  1257766688   \n",
       "3    44542  [2338780, 1813232, 199079, 3295925, 1175085, 3...  1248079275   \n",
       "4    44542  [1632714, 2933827, 1632721, 2533642, 2652489, ...  1175201268   \n",
       "\n",
       "                                  Title  numtracks duration  \n",
       "0                        \"my_favorites\"         27     6522  \n",
       "1                                    \"\"          9     2650  \n",
       "2                                \"1989\"         16     3645  \n",
       "3               \"Fly me to the moon...\"         15     4151  \n",
       "4  \"The playlist who must not be named\"         84    18414  "
      ]
     },
     "execution_count": 13,
     "metadata": {},
     "output_type": "execute_result"
    }
   ],
   "source": [
    "playlists.head()"
   ]
  },
  {
   "cell_type": "code",
   "execution_count": 14,
   "metadata": {},
   "outputs": [],
   "source": [
    "playlists.to_csv('playlists.csv', index=False)"
   ]
  },
  {
   "cell_type": "markdown",
   "metadata": {},
   "source": [
    "#### GETTING SESSION"
   ]
  },
  {
   "cell_type": "code",
   "execution_count": 397,
   "metadata": {},
   "outputs": [],
   "source": [
    "sessions = pd.read_csv('ThirtyMusic/relations/sessions.idomaar', sep='\t', header=None)"
   ]
  },
  {
   "cell_type": "code",
   "execution_count": 449,
   "metadata": {},
   "outputs": [],
   "source": [
    "session_cols = ['numtracks', 'playtime', 'user_id', 'tracks', 'negative_samples']\n",
    "new_columns(sessions, session_cols)"
   ]
  },
  {
   "cell_type": "code",
   "execution_count": 453,
   "metadata": {},
   "outputs": [],
   "source": [
    "meta_info_session = []\n",
    "for x in sessions[3]:\n",
    "    x = x.split(' ')\n",
    "    meta_info_session_buff = []\n",
    "    meta_info_session_buff.append(ast.literal_eval(x[0])['numtracks'])\n",
    "    meta_info_session_buff.append(ast.literal_eval(x[0])['playtime'])\n",
    "    meta_info_session_buff.append(json.loads(x[1])['subjects'][0]['id'])\n",
    "    song_ids = []\n",
    "    negative_samples = []\n",
    "    for song in json.loads(x[1])['objects']:\n",
    "        if song['action'] == 'skip' or song['playtime'] <= 15:\n",
    "            negative_samples.append(song['id'])\n",
    "#       если песня играла меньше 15 секунд, то считаем что это негативный пример\n",
    "#       если песню остановили, или скипнули тоже будем считать негативным примером\n",
    "        elif song['action'] is None:\n",
    "            negative_samples.append(song_ids.pop())\n",
    "        elif song['playtime'] > 15:\n",
    "            song_ids.append(song['id'])\n",
    "    meta_info_session_buff.append(song_ids)\n",
    "    meta_info_session_buff.append(negative_samples)\n",
    "    meta_info_session.append(meta_info_session_buff)"
   ]
  },
  {
   "cell_type": "code",
   "execution_count": 454,
   "metadata": {},
   "outputs": [],
   "source": [
    "sessions[session_cols] = meta_info_session"
   ]
  },
  {
   "cell_type": "code",
   "execution_count": 460,
   "metadata": {},
   "outputs": [],
   "source": [
    "sessions = sessions[[1,2,'numtracks','playtime', 'user_id','tracks', 'negative_samples']]\n",
    "\n",
    "# уберем сессии в которых не прослушали ни одну песню \n",
    "sessions = sessions[sessions['playtime'] != -1]\n",
    "\n",
    "# возьмем сессии где прослушали более трех треков\n",
    "sessions = sessions[sessions.numtracks > 3]"
   ]
  },
  {
   "cell_type": "code",
   "execution_count": 465,
   "metadata": {},
   "outputs": [
    {
     "data": {
      "text/html": [
       "<div>\n",
       "<style scoped>\n",
       "    .dataframe tbody tr th:only-of-type {\n",
       "        vertical-align: middle;\n",
       "    }\n",
       "\n",
       "    .dataframe tbody tr th {\n",
       "        vertical-align: top;\n",
       "    }\n",
       "\n",
       "    .dataframe thead th {\n",
       "        text-align: right;\n",
       "    }\n",
       "</style>\n",
       "<table border=\"1\" class=\"dataframe\">\n",
       "  <thead>\n",
       "    <tr style=\"text-align: right;\">\n",
       "      <th></th>\n",
       "      <th>1</th>\n",
       "      <th>2</th>\n",
       "      <th>numtracks</th>\n",
       "      <th>playtime</th>\n",
       "      <th>user_id</th>\n",
       "      <th>tracks</th>\n",
       "      <th>negative_samples</th>\n",
       "    </tr>\n",
       "  </thead>\n",
       "  <tbody>\n",
       "    <tr>\n",
       "      <th>0</th>\n",
       "      <td>287144</td>\n",
       "      <td>1390231051</td>\n",
       "      <td>23</td>\n",
       "      <td>4547</td>\n",
       "      <td>44361</td>\n",
       "      <td>[4698874, 838286, 2588097, 2746740, 3873988, 8...</td>\n",
       "      <td>[4698881]</td>\n",
       "    </tr>\n",
       "    <tr>\n",
       "      <th>1</th>\n",
       "      <td>287145</td>\n",
       "      <td>1390241844</td>\n",
       "      <td>11</td>\n",
       "      <td>2907</td>\n",
       "      <td>44361</td>\n",
       "      <td>[455834, 2460503, 1999451, 3257000, 2765459, 4...</td>\n",
       "      <td>[249947]</td>\n",
       "    </tr>\n",
       "    <tr>\n",
       "      <th>2</th>\n",
       "      <td>287146</td>\n",
       "      <td>1390303249</td>\n",
       "      <td>16</td>\n",
       "      <td>3191</td>\n",
       "      <td>44361</td>\n",
       "      <td>[4698883, 1299602, 1907900, 1646559, 118991, 1...</td>\n",
       "      <td>[2897013]</td>\n",
       "    </tr>\n",
       "    <tr>\n",
       "      <th>3</th>\n",
       "      <td>287147</td>\n",
       "      <td>1390481828</td>\n",
       "      <td>5</td>\n",
       "      <td>1162</td>\n",
       "      <td>44361</td>\n",
       "      <td>[2503252, 1329082, 1066876, 4678485]</td>\n",
       "      <td>[1876964]</td>\n",
       "    </tr>\n",
       "    <tr>\n",
       "      <th>5</th>\n",
       "      <td>287141</td>\n",
       "      <td>1421494124</td>\n",
       "      <td>32</td>\n",
       "      <td>7349</td>\n",
       "      <td>42773</td>\n",
       "      <td>[485883, 3287727, 3287736, 3287725, 3287729, 3...</td>\n",
       "      <td>[1325417]</td>\n",
       "    </tr>\n",
       "  </tbody>\n",
       "</table>\n",
       "</div>"
      ],
      "text/plain": [
       "        1           2  numtracks  playtime  user_id  \\\n",
       "0  287144  1390231051         23      4547    44361   \n",
       "1  287145  1390241844         11      2907    44361   \n",
       "2  287146  1390303249         16      3191    44361   \n",
       "3  287147  1390481828          5      1162    44361   \n",
       "5  287141  1421494124         32      7349    42773   \n",
       "\n",
       "                                              tracks negative_samples  \n",
       "0  [4698874, 838286, 2588097, 2746740, 3873988, 8...        [4698881]  \n",
       "1  [455834, 2460503, 1999451, 3257000, 2765459, 4...         [249947]  \n",
       "2  [4698883, 1299602, 1907900, 1646559, 118991, 1...        [2897013]  \n",
       "3               [2503252, 1329082, 1066876, 4678485]        [1876964]  \n",
       "5  [485883, 3287727, 3287736, 3287725, 3287729, 3...        [1325417]  "
      ]
     },
     "execution_count": 465,
     "metadata": {},
     "output_type": "execute_result"
    }
   ],
   "source": [
    "sessions.head()"
   ]
  },
  {
   "cell_type": "code",
   "execution_count": 464,
   "metadata": {},
   "outputs": [],
   "source": [
    "sessions.to_csv('sessions.csv', index = False)"
   ]
  },
  {
   "cell_type": "code",
   "execution_count": null,
   "metadata": {},
   "outputs": [],
   "source": []
  },
  {
   "cell_type": "code",
   "execution_count": null,
   "metadata": {},
   "outputs": [],
   "source": []
  },
  {
   "cell_type": "code",
   "execution_count": null,
   "metadata": {},
   "outputs": [],
   "source": []
  }
 ],
 "metadata": {
  "kernelspec": {
   "display_name": "Python 3",
   "language": "python",
   "name": "python3"
  },
  "language_info": {
   "codemirror_mode": {
    "name": "ipython",
    "version": 3
   },
   "file_extension": ".py",
   "mimetype": "text/x-python",
   "name": "python",
   "nbconvert_exporter": "python",
   "pygments_lexer": "ipython3",
   "version": "3.7.3"
  }
 },
 "nbformat": 4,
 "nbformat_minor": 2
}
